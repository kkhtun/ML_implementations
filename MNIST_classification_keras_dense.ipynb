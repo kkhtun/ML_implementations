{
  "nbformat": 4,
  "nbformat_minor": 0,
  "metadata": {
    "colab": {
      "name": "MNIST_classification_keras_dense.ipynb",
      "provenance": [],
      "collapsed_sections": []
    },
    "kernelspec": {
      "name": "python3",
      "display_name": "Python 3"
    },
    "accelerator": "GPU"
  },
  "cells": [
    {
      "cell_type": "markdown",
      "metadata": {
        "id": "LOKpEcpWW_dY"
      },
      "source": [
        "My implementation of training on MNIST full dataset on Dense (plain) neural network using keras library  \n",
        "Please do note that some values are hard-coded for ease in this simple implementation  \n",
        "Accuracy achieved : 92%  \n",
        "Reference to www.pyimagesearch.com"
      ]
    },
    {
      "cell_type": "code",
      "metadata": {
        "id": "bwhUEAXZNaIf"
      },
      "source": [
        "from sklearn.datasets import fetch_openml\n",
        "from sklearn.preprocessing import LabelBinarizer\n",
        "from sklearn.model_selection import train_test_split\n",
        "from sklearn.metrics import classification_report\n",
        "from keras.models import Sequential\n",
        "from keras.layers.core import Dense\n",
        "from keras.optimizers import SGD\n",
        "import numpy as np\n",
        "import matplotlib.pyplot as plt"
      ],
      "execution_count": 1,
      "outputs": []
    },
    {
      "cell_type": "code",
      "metadata": {
        "id": "CnMhJo08OLEU",
        "outputId": "1a38741f-2cef-43e7-fcf3-5fde7a72f936",
        "colab": {
          "base_uri": "https://localhost:8080/",
          "height": 68
        }
      },
      "source": [
        "print(\"Loading MNIST full dataset...\")\n",
        "dataset = fetch_openml(\"mnist_784\")\n",
        "\n",
        "data = dataset.data.astype(\"float\")/255.0\n",
        "train_X, test_X, train_Y, test_Y = train_test_split(data, dataset.target, test_size = 0.25)\n",
        "print(\"Training set shapes : {} {}\".format(train_X.shape,train_Y.shape))\n",
        "print(\"Test set shapes : {} {}\".format(test_X.shape, test_Y.shape))"
      ],
      "execution_count": 2,
      "outputs": [
        {
          "output_type": "stream",
          "text": [
            "Loading MNIST full dataset...\n",
            "Training set shapes : (52500, 784) (52500,)\n",
            "Test set shapes : (17500, 784) (17500,)\n"
          ],
          "name": "stdout"
        }
      ]
    },
    {
      "cell_type": "code",
      "metadata": {
        "id": "eVLkADmOO216"
      },
      "source": [
        "lb = LabelBinarizer()     #one-hot encoding\n",
        "train_Y = lb.fit_transform(train_Y)\n",
        "test_Y = lb.fit_transform(test_Y)"
      ],
      "execution_count": 3,
      "outputs": []
    },
    {
      "cell_type": "code",
      "metadata": {
        "id": "87HgJIUZRkhi"
      },
      "source": [
        "model = Sequential()      #defining our model\n",
        "model.add(Dense(256, input_shape = (train_X.shape[1],), activation = \"sigmoid\"))\n",
        "model.add(Dense(128, activation= \"sigmoid\"))\n",
        "model.add(Dense(10, activation = \"softmax\"))"
      ],
      "execution_count": 5,
      "outputs": []
    },
    {
      "cell_type": "code",
      "metadata": {
        "id": "GIKxESUiSIp-",
        "outputId": "14042b90-5ea8-41f9-b81c-5b0e0285a6ba",
        "colab": {
          "base_uri": "https://localhost:8080/",
          "height": 1000
        }
      },
      "source": [
        "print(\"Training neural network...\")\n",
        "sgd = SGD(learning_rate=1e-2)\n",
        "model.compile(loss = \"categorical_crossentropy\", optimizer = sgd, metrics = [\"accuracy\"])\n",
        "History = model.fit(train_X, train_Y, validation_data = (test_X, test_Y), epochs = 100, batch_size = 128)"
      ],
      "execution_count": 6,
      "outputs": [
        {
          "output_type": "stream",
          "text": [
            "Training neural network...\n",
            "Epoch 1/100\n",
            "411/411 [==============================] - 2s 4ms/step - loss: 2.2890 - accuracy: 0.1765 - val_loss: 2.2571 - val_accuracy: 0.2461\n",
            "Epoch 2/100\n",
            "411/411 [==============================] - 1s 3ms/step - loss: 2.2291 - accuracy: 0.3447 - val_loss: 2.2013 - val_accuracy: 0.4093\n",
            "Epoch 3/100\n",
            "411/411 [==============================] - 1s 3ms/step - loss: 2.1637 - accuracy: 0.4700 - val_loss: 2.1250 - val_accuracy: 0.4741\n",
            "Epoch 4/100\n",
            "411/411 [==============================] - 1s 3ms/step - loss: 2.0755 - accuracy: 0.5589 - val_loss: 2.0228 - val_accuracy: 0.5221\n",
            "Epoch 5/100\n",
            "411/411 [==============================] - 1s 3ms/step - loss: 1.9525 - accuracy: 0.6036 - val_loss: 1.8785 - val_accuracy: 0.6166\n",
            "Epoch 6/100\n",
            "411/411 [==============================] - 1s 3ms/step - loss: 1.7903 - accuracy: 0.6450 - val_loss: 1.6990 - val_accuracy: 0.6649\n",
            "Epoch 7/100\n",
            "411/411 [==============================] - 1s 3ms/step - loss: 1.6003 - accuracy: 0.6808 - val_loss: 1.5044 - val_accuracy: 0.6882\n",
            "Epoch 8/100\n",
            "411/411 [==============================] - 1s 3ms/step - loss: 1.4071 - accuracy: 0.7171 - val_loss: 1.3185 - val_accuracy: 0.7226\n",
            "Epoch 9/100\n",
            "411/411 [==============================] - 1s 3ms/step - loss: 1.2339 - accuracy: 0.7483 - val_loss: 1.1603 - val_accuracy: 0.7597\n",
            "Epoch 10/100\n",
            "411/411 [==============================] - 1s 3ms/step - loss: 1.0903 - accuracy: 0.7731 - val_loss: 1.0325 - val_accuracy: 0.7739\n",
            "Epoch 11/100\n",
            "411/411 [==============================] - 1s 3ms/step - loss: 0.9755 - accuracy: 0.7917 - val_loss: 0.9309 - val_accuracy: 0.7961\n",
            "Epoch 12/100\n",
            "411/411 [==============================] - 1s 3ms/step - loss: 0.8842 - accuracy: 0.8057 - val_loss: 0.8490 - val_accuracy: 0.8091\n",
            "Epoch 13/100\n",
            "411/411 [==============================] - 1s 3ms/step - loss: 0.8107 - accuracy: 0.8172 - val_loss: 0.7827 - val_accuracy: 0.8204\n",
            "Epoch 14/100\n",
            "411/411 [==============================] - 1s 3ms/step - loss: 0.7510 - accuracy: 0.8272 - val_loss: 0.7285 - val_accuracy: 0.8327\n",
            "Epoch 15/100\n",
            "411/411 [==============================] - 1s 3ms/step - loss: 0.7018 - accuracy: 0.8348 - val_loss: 0.6833 - val_accuracy: 0.8388\n",
            "Epoch 16/100\n",
            "411/411 [==============================] - 1s 3ms/step - loss: 0.6611 - accuracy: 0.8409 - val_loss: 0.6462 - val_accuracy: 0.8433\n",
            "Epoch 17/100\n",
            "411/411 [==============================] - 1s 3ms/step - loss: 0.6268 - accuracy: 0.8462 - val_loss: 0.6143 - val_accuracy: 0.8500\n",
            "Epoch 18/100\n",
            "411/411 [==============================] - 1s 3ms/step - loss: 0.5976 - accuracy: 0.8512 - val_loss: 0.5869 - val_accuracy: 0.8526\n",
            "Epoch 19/100\n",
            "411/411 [==============================] - 1s 3ms/step - loss: 0.5725 - accuracy: 0.8553 - val_loss: 0.5632 - val_accuracy: 0.8566\n",
            "Epoch 20/100\n",
            "411/411 [==============================] - 1s 3ms/step - loss: 0.5508 - accuracy: 0.8594 - val_loss: 0.5429 - val_accuracy: 0.8606\n",
            "Epoch 21/100\n",
            "411/411 [==============================] - 1s 3ms/step - loss: 0.5321 - accuracy: 0.8623 - val_loss: 0.5247 - val_accuracy: 0.8644\n",
            "Epoch 22/100\n",
            "411/411 [==============================] - 1s 3ms/step - loss: 0.5153 - accuracy: 0.8649 - val_loss: 0.5093 - val_accuracy: 0.8663\n",
            "Epoch 23/100\n",
            "411/411 [==============================] - 1s 3ms/step - loss: 0.5004 - accuracy: 0.8681 - val_loss: 0.4948 - val_accuracy: 0.8697\n",
            "Epoch 24/100\n",
            "411/411 [==============================] - 1s 3ms/step - loss: 0.4871 - accuracy: 0.8705 - val_loss: 0.4825 - val_accuracy: 0.8709\n",
            "Epoch 25/100\n",
            "411/411 [==============================] - 1s 3ms/step - loss: 0.4752 - accuracy: 0.8734 - val_loss: 0.4709 - val_accuracy: 0.8738\n",
            "Epoch 26/100\n",
            "411/411 [==============================] - 1s 3ms/step - loss: 0.4643 - accuracy: 0.8753 - val_loss: 0.4605 - val_accuracy: 0.8768\n",
            "Epoch 27/100\n",
            "411/411 [==============================] - 1s 3ms/step - loss: 0.4544 - accuracy: 0.8776 - val_loss: 0.4511 - val_accuracy: 0.8784\n",
            "Epoch 28/100\n",
            "411/411 [==============================] - 1s 3ms/step - loss: 0.4454 - accuracy: 0.8799 - val_loss: 0.4421 - val_accuracy: 0.8805\n",
            "Epoch 29/100\n",
            "411/411 [==============================] - 1s 3ms/step - loss: 0.4370 - accuracy: 0.8814 - val_loss: 0.4344 - val_accuracy: 0.8815\n",
            "Epoch 30/100\n",
            "411/411 [==============================] - 1s 3ms/step - loss: 0.4294 - accuracy: 0.8831 - val_loss: 0.4267 - val_accuracy: 0.8842\n",
            "Epoch 31/100\n",
            "411/411 [==============================] - 1s 3ms/step - loss: 0.4223 - accuracy: 0.8850 - val_loss: 0.4205 - val_accuracy: 0.8843\n",
            "Epoch 32/100\n",
            "411/411 [==============================] - 1s 3ms/step - loss: 0.4159 - accuracy: 0.8858 - val_loss: 0.4137 - val_accuracy: 0.8858\n",
            "Epoch 33/100\n",
            "411/411 [==============================] - 1s 3ms/step - loss: 0.4097 - accuracy: 0.8873 - val_loss: 0.4080 - val_accuracy: 0.8881\n",
            "Epoch 34/100\n",
            "411/411 [==============================] - 1s 3ms/step - loss: 0.4041 - accuracy: 0.8886 - val_loss: 0.4027 - val_accuracy: 0.8880\n",
            "Epoch 35/100\n",
            "411/411 [==============================] - 1s 3ms/step - loss: 0.3988 - accuracy: 0.8892 - val_loss: 0.3974 - val_accuracy: 0.8896\n",
            "Epoch 36/100\n",
            "411/411 [==============================] - 1s 3ms/step - loss: 0.3938 - accuracy: 0.8904 - val_loss: 0.3927 - val_accuracy: 0.8911\n",
            "Epoch 37/100\n",
            "411/411 [==============================] - 1s 3ms/step - loss: 0.3892 - accuracy: 0.8917 - val_loss: 0.3886 - val_accuracy: 0.8913\n",
            "Epoch 38/100\n",
            "411/411 [==============================] - 1s 3ms/step - loss: 0.3848 - accuracy: 0.8929 - val_loss: 0.3837 - val_accuracy: 0.8915\n",
            "Epoch 39/100\n",
            "411/411 [==============================] - 1s 3ms/step - loss: 0.3807 - accuracy: 0.8936 - val_loss: 0.3800 - val_accuracy: 0.8930\n",
            "Epoch 40/100\n",
            "411/411 [==============================] - 1s 3ms/step - loss: 0.3768 - accuracy: 0.8948 - val_loss: 0.3762 - val_accuracy: 0.8933\n",
            "Epoch 41/100\n",
            "411/411 [==============================] - 1s 3ms/step - loss: 0.3731 - accuracy: 0.8955 - val_loss: 0.3726 - val_accuracy: 0.8947\n",
            "Epoch 42/100\n",
            "411/411 [==============================] - 1s 3ms/step - loss: 0.3696 - accuracy: 0.8966 - val_loss: 0.3694 - val_accuracy: 0.8948\n",
            "Epoch 43/100\n",
            "411/411 [==============================] - 1s 3ms/step - loss: 0.3661 - accuracy: 0.8970 - val_loss: 0.3661 - val_accuracy: 0.8947\n",
            "Epoch 44/100\n",
            "411/411 [==============================] - 1s 3ms/step - loss: 0.3630 - accuracy: 0.8981 - val_loss: 0.3628 - val_accuracy: 0.8956\n",
            "Epoch 45/100\n",
            "411/411 [==============================] - 1s 3ms/step - loss: 0.3600 - accuracy: 0.8986 - val_loss: 0.3602 - val_accuracy: 0.8962\n",
            "Epoch 46/100\n",
            "411/411 [==============================] - 1s 3ms/step - loss: 0.3570 - accuracy: 0.8992 - val_loss: 0.3577 - val_accuracy: 0.8969\n",
            "Epoch 47/100\n",
            "411/411 [==============================] - 1s 3ms/step - loss: 0.3543 - accuracy: 0.9001 - val_loss: 0.3544 - val_accuracy: 0.8971\n",
            "Epoch 48/100\n",
            "411/411 [==============================] - 1s 3ms/step - loss: 0.3516 - accuracy: 0.9007 - val_loss: 0.3522 - val_accuracy: 0.8983\n",
            "Epoch 49/100\n",
            "411/411 [==============================] - 1s 3ms/step - loss: 0.3490 - accuracy: 0.9012 - val_loss: 0.3496 - val_accuracy: 0.8988\n",
            "Epoch 50/100\n",
            "411/411 [==============================] - 1s 3ms/step - loss: 0.3465 - accuracy: 0.9016 - val_loss: 0.3471 - val_accuracy: 0.8991\n",
            "Epoch 51/100\n",
            "411/411 [==============================] - 1s 3ms/step - loss: 0.3442 - accuracy: 0.9024 - val_loss: 0.3450 - val_accuracy: 0.8990\n",
            "Epoch 52/100\n",
            "411/411 [==============================] - 1s 3ms/step - loss: 0.3419 - accuracy: 0.9025 - val_loss: 0.3426 - val_accuracy: 0.9008\n",
            "Epoch 53/100\n",
            "411/411 [==============================] - 1s 3ms/step - loss: 0.3397 - accuracy: 0.9032 - val_loss: 0.3403 - val_accuracy: 0.9005\n",
            "Epoch 54/100\n",
            "411/411 [==============================] - 1s 3ms/step - loss: 0.3375 - accuracy: 0.9038 - val_loss: 0.3383 - val_accuracy: 0.9008\n",
            "Epoch 55/100\n",
            "411/411 [==============================] - 1s 3ms/step - loss: 0.3354 - accuracy: 0.9046 - val_loss: 0.3372 - val_accuracy: 0.9015\n",
            "Epoch 56/100\n",
            "411/411 [==============================] - 1s 3ms/step - loss: 0.3334 - accuracy: 0.9051 - val_loss: 0.3347 - val_accuracy: 0.9018\n",
            "Epoch 57/100\n",
            "411/411 [==============================] - 1s 3ms/step - loss: 0.3315 - accuracy: 0.9053 - val_loss: 0.3326 - val_accuracy: 0.9022\n",
            "Epoch 58/100\n",
            "411/411 [==============================] - 1s 3ms/step - loss: 0.3296 - accuracy: 0.9054 - val_loss: 0.3305 - val_accuracy: 0.9031\n",
            "Epoch 59/100\n",
            "411/411 [==============================] - 1s 3ms/step - loss: 0.3276 - accuracy: 0.9064 - val_loss: 0.3294 - val_accuracy: 0.9035\n",
            "Epoch 60/100\n",
            "411/411 [==============================] - 1s 3ms/step - loss: 0.3259 - accuracy: 0.9069 - val_loss: 0.3273 - val_accuracy: 0.9046\n",
            "Epoch 61/100\n",
            "411/411 [==============================] - 1s 3ms/step - loss: 0.3241 - accuracy: 0.9074 - val_loss: 0.3255 - val_accuracy: 0.9043\n",
            "Epoch 62/100\n",
            "411/411 [==============================] - 1s 3ms/step - loss: 0.3224 - accuracy: 0.9071 - val_loss: 0.3239 - val_accuracy: 0.9053\n",
            "Epoch 63/100\n",
            "411/411 [==============================] - 1s 3ms/step - loss: 0.3208 - accuracy: 0.9079 - val_loss: 0.3224 - val_accuracy: 0.9049\n",
            "Epoch 64/100\n",
            "411/411 [==============================] - 1s 3ms/step - loss: 0.3191 - accuracy: 0.9089 - val_loss: 0.3207 - val_accuracy: 0.9055\n",
            "Epoch 65/100\n",
            "411/411 [==============================] - 1s 3ms/step - loss: 0.3176 - accuracy: 0.9088 - val_loss: 0.3196 - val_accuracy: 0.9068\n",
            "Epoch 66/100\n",
            "411/411 [==============================] - 1s 3ms/step - loss: 0.3160 - accuracy: 0.9091 - val_loss: 0.3178 - val_accuracy: 0.9064\n",
            "Epoch 67/100\n",
            "411/411 [==============================] - 1s 3ms/step - loss: 0.3145 - accuracy: 0.9096 - val_loss: 0.3164 - val_accuracy: 0.9073\n",
            "Epoch 68/100\n",
            "411/411 [==============================] - 1s 3ms/step - loss: 0.3130 - accuracy: 0.9101 - val_loss: 0.3149 - val_accuracy: 0.9075\n",
            "Epoch 69/100\n",
            "411/411 [==============================] - 1s 3ms/step - loss: 0.3115 - accuracy: 0.9107 - val_loss: 0.3135 - val_accuracy: 0.9084\n",
            "Epoch 70/100\n",
            "411/411 [==============================] - 1s 3ms/step - loss: 0.3102 - accuracy: 0.9107 - val_loss: 0.3122 - val_accuracy: 0.9083\n",
            "Epoch 71/100\n",
            "411/411 [==============================] - 1s 3ms/step - loss: 0.3087 - accuracy: 0.9114 - val_loss: 0.3106 - val_accuracy: 0.9088\n",
            "Epoch 72/100\n",
            "411/411 [==============================] - 1s 3ms/step - loss: 0.3074 - accuracy: 0.9115 - val_loss: 0.3092 - val_accuracy: 0.9093\n",
            "Epoch 73/100\n",
            "411/411 [==============================] - 1s 3ms/step - loss: 0.3060 - accuracy: 0.9121 - val_loss: 0.3083 - val_accuracy: 0.9098\n",
            "Epoch 74/100\n",
            "411/411 [==============================] - 1s 3ms/step - loss: 0.3048 - accuracy: 0.9124 - val_loss: 0.3069 - val_accuracy: 0.9094\n",
            "Epoch 75/100\n",
            "411/411 [==============================] - 1s 3ms/step - loss: 0.3035 - accuracy: 0.9129 - val_loss: 0.3057 - val_accuracy: 0.9102\n",
            "Epoch 76/100\n",
            "411/411 [==============================] - 1s 3ms/step - loss: 0.3022 - accuracy: 0.9131 - val_loss: 0.3048 - val_accuracy: 0.9105\n",
            "Epoch 77/100\n",
            "411/411 [==============================] - 1s 3ms/step - loss: 0.3010 - accuracy: 0.9131 - val_loss: 0.3033 - val_accuracy: 0.9111\n",
            "Epoch 78/100\n",
            "411/411 [==============================] - 1s 3ms/step - loss: 0.2998 - accuracy: 0.9141 - val_loss: 0.3020 - val_accuracy: 0.9114\n",
            "Epoch 79/100\n",
            "411/411 [==============================] - 1s 3ms/step - loss: 0.2986 - accuracy: 0.9143 - val_loss: 0.3008 - val_accuracy: 0.9112\n",
            "Epoch 80/100\n",
            "411/411 [==============================] - 1s 3ms/step - loss: 0.2974 - accuracy: 0.9145 - val_loss: 0.2999 - val_accuracy: 0.9113\n",
            "Epoch 81/100\n",
            "411/411 [==============================] - 1s 3ms/step - loss: 0.2963 - accuracy: 0.9147 - val_loss: 0.2986 - val_accuracy: 0.9118\n",
            "Epoch 82/100\n",
            "411/411 [==============================] - 1s 3ms/step - loss: 0.2951 - accuracy: 0.9147 - val_loss: 0.2975 - val_accuracy: 0.9121\n",
            "Epoch 83/100\n",
            "411/411 [==============================] - 1s 3ms/step - loss: 0.2940 - accuracy: 0.9154 - val_loss: 0.2967 - val_accuracy: 0.9122\n",
            "Epoch 84/100\n",
            "411/411 [==============================] - 1s 3ms/step - loss: 0.2929 - accuracy: 0.9161 - val_loss: 0.2953 - val_accuracy: 0.9127\n",
            "Epoch 85/100\n",
            "411/411 [==============================] - 1s 3ms/step - loss: 0.2918 - accuracy: 0.9162 - val_loss: 0.2943 - val_accuracy: 0.9131\n",
            "Epoch 86/100\n",
            "411/411 [==============================] - 1s 3ms/step - loss: 0.2908 - accuracy: 0.9165 - val_loss: 0.2933 - val_accuracy: 0.9135\n",
            "Epoch 87/100\n",
            "411/411 [==============================] - 1s 3ms/step - loss: 0.2896 - accuracy: 0.9165 - val_loss: 0.2925 - val_accuracy: 0.9134\n",
            "Epoch 88/100\n",
            "411/411 [==============================] - 1s 3ms/step - loss: 0.2886 - accuracy: 0.9169 - val_loss: 0.2912 - val_accuracy: 0.9138\n",
            "Epoch 89/100\n",
            "411/411 [==============================] - 1s 3ms/step - loss: 0.2876 - accuracy: 0.9175 - val_loss: 0.2907 - val_accuracy: 0.9140\n",
            "Epoch 90/100\n",
            "411/411 [==============================] - 1s 3ms/step - loss: 0.2866 - accuracy: 0.9178 - val_loss: 0.2893 - val_accuracy: 0.9146\n",
            "Epoch 91/100\n",
            "411/411 [==============================] - 1s 3ms/step - loss: 0.2856 - accuracy: 0.9177 - val_loss: 0.2884 - val_accuracy: 0.9145\n",
            "Epoch 92/100\n",
            "411/411 [==============================] - 1s 3ms/step - loss: 0.2846 - accuracy: 0.9179 - val_loss: 0.2878 - val_accuracy: 0.9141\n",
            "Epoch 93/100\n",
            "411/411 [==============================] - 1s 3ms/step - loss: 0.2837 - accuracy: 0.9184 - val_loss: 0.2864 - val_accuracy: 0.9154\n",
            "Epoch 94/100\n",
            "411/411 [==============================] - 1s 3ms/step - loss: 0.2827 - accuracy: 0.9187 - val_loss: 0.2857 - val_accuracy: 0.9159\n",
            "Epoch 95/100\n",
            "411/411 [==============================] - 1s 3ms/step - loss: 0.2818 - accuracy: 0.9187 - val_loss: 0.2848 - val_accuracy: 0.9154\n",
            "Epoch 96/100\n",
            "411/411 [==============================] - 1s 3ms/step - loss: 0.2808 - accuracy: 0.9192 - val_loss: 0.2839 - val_accuracy: 0.9153\n",
            "Epoch 97/100\n",
            "411/411 [==============================] - 1s 3ms/step - loss: 0.2799 - accuracy: 0.9194 - val_loss: 0.2830 - val_accuracy: 0.9162\n",
            "Epoch 98/100\n",
            "411/411 [==============================] - 1s 3ms/step - loss: 0.2788 - accuracy: 0.9195 - val_loss: 0.2821 - val_accuracy: 0.9163\n",
            "Epoch 99/100\n",
            "411/411 [==============================] - 1s 3ms/step - loss: 0.2781 - accuracy: 0.9202 - val_loss: 0.2814 - val_accuracy: 0.9166\n",
            "Epoch 100/100\n",
            "411/411 [==============================] - 1s 3ms/step - loss: 0.2772 - accuracy: 0.9202 - val_loss: 0.2803 - val_accuracy: 0.9166\n"
          ],
          "name": "stdout"
        }
      ]
    },
    {
      "cell_type": "code",
      "metadata": {
        "id": "PYqj0rvMS4VQ",
        "outputId": "713ee2f5-3d79-48c8-f8ff-5b94a8581c81",
        "colab": {
          "base_uri": "https://localhost:8080/",
          "height": 323
        }
      },
      "source": [
        "print(\"Predicting on the trained network...\")\n",
        "preds = model.predict(test_X, batch_size = 128)\n",
        "preds = preds.argmax(axis = 1)\n",
        "print(classification_report(test_Y.argmax(axis = 1), preds, target_names= [str(x) for x in lb.classes_]))"
      ],
      "execution_count": 12,
      "outputs": [
        {
          "output_type": "stream",
          "text": [
            "Predicting on the trained network...\n",
            "              precision    recall  f1-score   support\n",
            "\n",
            "           0       0.95      0.97      0.96      1692\n",
            "           1       0.94      0.97      0.96      1979\n",
            "           2       0.91      0.89      0.90      1682\n",
            "           3       0.91      0.88      0.89      1742\n",
            "           4       0.90      0.93      0.92      1718\n",
            "           5       0.88      0.86      0.87      1593\n",
            "           6       0.93      0.95      0.94      1686\n",
            "           7       0.93      0.93      0.93      1859\n",
            "           8       0.91      0.88      0.90      1789\n",
            "           9       0.89      0.89      0.89      1760\n",
            "\n",
            "    accuracy                           0.92     17500\n",
            "   macro avg       0.92      0.92      0.92     17500\n",
            "weighted avg       0.92      0.92      0.92     17500\n",
            "\n"
          ],
          "name": "stdout"
        }
      ]
    },
    {
      "cell_type": "markdown",
      "metadata": {
        "id": "WIN4AFYdX-wD"
      },
      "source": [
        "To achieve better accuracy, we can try tuning the hyperparameters or more importantly, we should try to use a Convolutional Neural Network for such image classification tasks"
      ]
    },
    {
      "cell_type": "code",
      "metadata": {
        "id": "cXfkEYM7TYm_",
        "outputId": "c10a82df-a59a-47e5-9285-866c055a800a",
        "colab": {
          "base_uri": "https://localhost:8080/",
          "height": 299
        }
      },
      "source": [
        "plt.style.use(\"ggplot\")\n",
        "plt.figure()\n",
        "plt.plot(np.arange(0,100), History.history[\"loss\"], label = \"Training Loss\")\n",
        "plt.plot(np.arange(0,100), History.history[\"val_loss\"], label = \"Validation Loss\")\n",
        "plt.plot(np.arange(0,100), History.history[\"accuracy\"], label = \"Training Accuracy\")\n",
        "plt.plot(np.arange(0,100), History.history[\"val_accuracy\"], label = \"Validation Accuracy\")\n",
        "plt.title(\"Training/Validation Loss and Accuracy\")\n",
        "plt.legend()\n",
        "plt.xlabel(\"No of Epochs\")\n",
        "plt.ylabel(\"Loss/Accuracy\")\n",
        "plt.show()"
      ],
      "execution_count": 14,
      "outputs": [
        {
          "output_type": "display_data",
          "data": {
            "image/png": "[encoded data removed]",
            "text/plain": [
              "<Figure size 432x288 with 1 Axes>"
            ]
          },
          "metadata": {
            "tags": []
          }
        }
      ]
    }
  ]
}